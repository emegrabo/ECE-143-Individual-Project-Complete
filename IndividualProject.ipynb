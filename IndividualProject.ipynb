{
 "cells": [
  {
   "cell_type": "markdown",
   "metadata": {},
   "source": [
    "# ECE 143: Communications Network Individual Project"
   ]
  },
  {
   "cell_type": "markdown",
   "metadata": {},
   "source": [
    "# Problem Statement and Design"
   ]
  },
  {
   "cell_type": "markdown",
   "metadata": {},
   "source": [
    "In our analysis of an ad-hoc communications network, there is an open-area field in which cell towers will be placed. We specify the size of the field for potential coverage. Cell towers are placed based on random size and location within the given potential coverage area.\n",
    "\n",
    "In order to do this, I designed a program that allows the user to input the size of the potential coverage area using two variables: width and height.\n",
    "\n",
    "The Tower class that I designed for this creates Tower objects which have a starting coordinate, a width, and a height, all three of which are randomly generated. The starting coordinate is the bottom left hand corner of the coverage rectangle that is formed. \n",
    "\n",
    "Given the size of the coverage area, a random coordinate as well as width and height are generated to fit within the potential coverage space. "
   ]
  },
  {
   "cell_type": "markdown",
   "metadata": {},
   "source": [
    "Below are all functions/libraries that will be imported for use in this analysis."
   ]
  },
  {
   "cell_type": "code",
   "execution_count": 44,
   "metadata": {
    "collapsed": true
   },
   "outputs": [],
   "source": [
    "import matplotlib.patches as patches\n",
    "import matplotlib.pyplot as plt\n",
    "import time\n",
    "import itertools\n",
    "from TowerFunctions import *\n",
    "from Towers import *"
   ]
  },
  {
   "cell_type": "markdown",
   "metadata": {},
   "source": [
    "This is a helper function for visualization purposes."
   ]
  },
  {
   "cell_type": "code",
   "execution_count": 45,
   "metadata": {
    "collapsed": true
   },
   "outputs": [],
   "source": [
    "def graph_patches(towers):\n",
    "    \"\"\"Gets the patches to graph\n",
    "    \"\"\"\n",
    "    colors = itertools.cycle([\"antiquewhite\", \"aqua\",\"yellow\", \"orange\", \\\n",
    "                              \"black\", \"blue\", \"blueviolet\", \"brown\", \"chartreuse\", \\\n",
    "                              \"cornflowerblue\", \"coral\", \"magenta\", \"mediumpurple\", \\\n",
    "                              \"midnightblue\", \"seagreen\"])\n",
    "    num_patches = 0\n",
    "    coverages = []\n",
    "    for t in towers:\n",
    "        if t != None:\n",
    "            coverage = patches.Rectangle(t.start,t.width,t.height, fc=next(colors))\n",
    "            coverages.append(coverage)\n",
    "        else:\n",
    "            coverages.append(None)\n",
    "        num_patches += 1\n",
    "    return coverages"
   ]
  },
  {
   "cell_type": "markdown",
   "metadata": {},
   "source": [
    "The width and height for the desired coverage area can be specified below. We will set them to 20, 20 for the purposes of this demonstration."
   ]
  },
  {
   "cell_type": "code",
   "execution_count": 46,
   "metadata": {
    "collapsed": true
   },
   "outputs": [],
   "source": [
    "width = 20\n",
    "height = 20\n",
    "tow = generate_tower(width, height)"
   ]
  },
  {
   "cell_type": "markdown",
   "metadata": {},
   "source": [
    "This generates a random rectangle of coverage. As you can see, the coordinate of the corner, the width, and the height, all match the diagram."
   ]
  },
  {
   "cell_type": "code",
   "execution_count": 48,
   "metadata": {
    "scrolled": true
   },
   "outputs": [
    {
     "name": "stdout",
     "output_type": "stream",
     "text": [
      "Bottom Left Corner = (0, 7), Width = 15, Height = 10\n"
     ]
    },
    {
     "data": {
      "image/png": "[encoded data removed]",
      "text/plain": [
       "<matplotlib.figure.Figure at 0xb58f668>"
      ]
     },
     "metadata": {},
     "output_type": "display_data"
    }
   ],
   "source": [
    "fig,ax = plt.subplots(1)\n",
    "plt.axis([0, width, 0, height]) \n",
    "tower = generate_tower(width, height)\n",
    "display_patch = graph_patches([tower])\n",
    "ax.add_patch(display_patch[0])\n",
    "fig.canvas.draw()\n",
    "print tower"
   ]
  },
  {
   "cell_type": "markdown",
   "metadata": {},
   "source": [
    "# Question 1: Resulting Resolved Coverage"
   ]
  },
  {
   "cell_type": "markdown",
   "metadata": {},
   "source": [
    "The number below will specify how many towers we would like to add to our coverage area."
   ]
  },
  {
   "cell_type": "code",
   "execution_count": 49,
   "metadata": {
    "collapsed": true
   },
   "outputs": [],
   "source": [
    "tower_count = 7"
   ]
  },
  {
   "cell_type": "markdown",
   "metadata": {},
   "source": [
    "# Algorithm Explanation"
   ]
  },
  {
   "cell_type": "markdown",
   "metadata": {},
   "source": [
    "The code below populates the coverage area with randomly sampled towers. The way it works is that it adds a tower if the region is empty. Then, when it tries to add another one, it compares the new one to the ones that are already placed. If there is any overlap, it will modify the new tower to be cut in all possible ways such that the new tower does not touch any of the other towers. Then, it looks through all possible cuts and picks the one with the highest area so that it optimally maximizes the coverage. This continues until all towers are added or until the coverage is completely filled, whichever comes first."
   ]
  },
  {
   "cell_type": "code",
   "execution_count": 52,
   "metadata": {},
   "outputs": [
    {
     "name": "stdout",
     "output_type": "stream",
     "text": [
      "[Bottom Left Corner = (8, 1), Width = 6, Height = 17, Bottom Left Corner = (1, 0), Width = 19, Height = 9, Bottom Left Corner = (4, 8), Width = 11, Height = 12, Bottom Left Corner = (5, 2), Width = 13, Height = 3, Bottom Left Corner = (0, 0), Width = 10, Height = 20, Bottom Left Corner = (0, 0), Width = 12, Height = 20, Bottom Left Corner = (7, 6), Width = 12, Height = 3]\n",
      "[Bottom Left Corner = (8, 1), Width = 6, Height = 17, Bottom Left Corner = (1, 0), Width = 7, Height = 9, Bottom Left Corner = (4, 9), Width = 4, Height = 11, Bottom Left Corner = (14, 2), Width = 4, Height = 3, Bottom Left Corner = (0, 9), Width = 4, Height = 11, Bottom Left Corner = (0, 0), Width = 1, Height = 9, Bottom Left Corner = (14, 6), Width = 5, Height = 3]\n"
     ]
    }
   ],
   "source": [
    "original = []\n",
    "trimmed = []\n",
    "new_tower = generate_tower(width, height)\n",
    "original.append(new_tower)\n",
    "trimmed.append(new_tower)\n",
    "\n",
    "added_count = 1\n",
    "while added_count < tower_count:\n",
    "    area = 0\n",
    "    for t in trimmed:\n",
    "        if t != None:\n",
    "            area = area + t.width*t.height\n",
    "    if area == height*width:\n",
    "        break\n",
    "    new_tower = generate_tower(width, height)\n",
    "    trim_tower = generate_max_tower(new_tower, trimmed)\n",
    "    if trim_tower is not None:\n",
    "        original.append(new_tower)\n",
    "        trimmed.append(trim_tower)\n",
    "        added_count = added_count + 1\n",
    "print (original)\n",
    "print (trimmed)"
   ]
  },
  {
   "cell_type": "markdown",
   "metadata": {},
   "source": [
    "Here, we can see each tower being dynamically added to the coverage area and trimmed accordingly such that there is no overlap amongst towers."
   ]
  },
  {
   "cell_type": "code",
   "execution_count": 53,
   "metadata": {},
   "outputs": [
    {
     "data": {
      "image/png": "[encoded data removed]",
      "text/plain": [
       "<matplotlib.figure.Figure at 0xb533358>"
      ]
     },
     "metadata": {},
     "output_type": "display_data"
    },
    {
     "data": {
      "image/png": "[encoded data removed]",
      "text/plain": [
       "<matplotlib.figure.Figure at 0xb533438>"
      ]
     },
     "metadata": {},
     "output_type": "display_data"
    },
    {
     "data": {
      "image/png": "[encoded data removed]",
      "text/plain": [
       "<matplotlib.figure.Figure at 0x9642780>"
      ]
     },
     "metadata": {},
     "output_type": "display_data"
    },
    {
     "data": {
      "image/png": "[encoded data removed]",
      "text/plain": [
       "<matplotlib.figure.Figure at 0xc1d92b0>"
      ]
     },
     "metadata": {},
     "output_type": "display_data"
    },
    {
     "data": {
      "image/png": "[encoded data removed]",
      "text/plain": [
       "<matplotlib.figure.Figure at 0xb1a7400>"
      ]
     },
     "metadata": {},
     "output_type": "display_data"
    },
    {
     "data": {
      "image/png": "[encoded data removed]",
      "text/plain": [
       "<matplotlib.figure.Figure at 0xc1ddf60>"
      ]
     },
     "metadata": {},
     "output_type": "display_data"
    },
    {
     "data": {
      "image/png": "[encoded data removed]",
      "text/plain": [
       "<matplotlib.figure.Figure at 0xba607b8>"
      ]
     },
     "metadata": {},
     "output_type": "display_data"
    }
   ],
   "source": [
    "trimmed_rects = graph_patches(trimmed)\n",
    "original_rects = graph_patches(original)\n",
    "#plot first rect, which doesn't need to be trimmed\n",
    "next_rect = original_rects[0]\n",
    "fig, ax1 = plt.subplots(1)\n",
    "plt.axis([0, width, 0, height])\n",
    "ax1.add_patch(next_rect)\n",
    "\n",
    "#Plot before and after trim (left and right respectively)\n",
    "for i in range(1, len(trimmed_rects)):\n",
    "    fig, (ax1, ax2) = plt.subplots(1, 2, sharex='all', sharey='all')\n",
    "    plt.axis([0, width, 0, height])\n",
    "    \n",
    "    original_rects = graph_patches(original)\n",
    "    trimmed_rects = graph_patches(trimmed)\n",
    "    \n",
    "    next_rect = original_rects[i]\n",
    "    for r in trimmed_rects[:i]:\n",
    "        ax1.add_patch(r)\n",
    "    ax1.add_patch(next_rect)\n",
    "    \n",
    "    original_rects = graph_patches(original)\n",
    "    trimmed_rects = graph_patches(trimmed)\n",
    "    \n",
    "    next_rect = trimmed_rects[i]\n",
    "    for r in trimmed_rects[:i]:\n",
    "        ax2.add_patch(r)\n",
    "    ax2.add_patch(next_rect)"
   ]
  },
  {
   "cell_type": "markdown",
   "metadata": {},
   "source": [
    "Below is what the area would look like after all towers are added if trimming did not occur."
   ]
  },
  {
   "cell_type": "code",
   "execution_count": 54,
   "metadata": {},
   "outputs": [
    {
     "data": {
      "image/png": "[encoded data removed]",
      "text/plain": [
       "<matplotlib.figure.Figure at 0x9579748>"
      ]
     },
     "metadata": {},
     "output_type": "display_data"
    }
   ],
   "source": [
    "fig, ax1 = plt.subplots(1)\n",
    "trimmed_rects = graph_patches(trimmed)\n",
    "original_rects = graph_patches(original)\n",
    "ax1.set_xlim(0, width)\n",
    "ax1.set_ylim(0, height)\n",
    "for i in original_rects:\n",
    "    ax1.add_patch(i)\n",
    "plt.show()"
   ]
  },
  {
   "cell_type": "markdown",
   "metadata": {},
   "source": [
    "Below is what the area looks like after all towers are added and trimming is performed."
   ]
  },
  {
   "cell_type": "code",
   "execution_count": 55,
   "metadata": {},
   "outputs": [
    {
     "data": {
      "image/png": "[encoded data removed]",
      "text/plain": [
       "<matplotlib.figure.Figure at 0xb17c710>"
      ]
     },
     "metadata": {},
     "output_type": "display_data"
    }
   ],
   "source": [
    "fig, ax1 = plt.subplots(1)\n",
    "trimmed_rects = graph_patches(trimmed)\n",
    "original_rects = graph_patches(original)\n",
    "ax1.set_xlim(0, width)\n",
    "ax1.set_ylim(0, height)\n",
    "for i in trimmed_rects:\n",
    "    ax1.add_patch(i)"
   ]
  },
  {
   "cell_type": "markdown",
   "metadata": {},
   "source": [
    "# Question 2: Total Area of Coverage / Gaps"
   ]
  },
  {
   "cell_type": "markdown",
   "metadata": {},
   "source": [
    "The total area of coverage can be seen below. Given a low number of towers, it is likely that there will be gaps. However, rerunning the code after changing the number of towers to a very high number (say, 100) makes it very likely that the entire coverage field will be covered."
   ]
  },
  {
   "cell_type": "code",
   "execution_count": 56,
   "metadata": {},
   "outputs": [
    {
     "name": "stdout",
     "output_type": "stream",
     "text": [
      "289/400 units have coverage\n",
      "Yes, there are gaps in the coverage\n"
     ]
    }
   ],
   "source": [
    "area = 0\n",
    "for t in trimmed:\n",
    "    if t != None:\n",
    "        area = area + t.width*t.height\n",
    "print \"%s/%s units have coverage\" % (area, width*height)\n",
    "if area != width*height:\n",
    "    print \"Yes, there are gaps in the coverage\"\n",
    "else:\n",
    "    print \"No, there are not any gaps in the coverage\""
   ]
  },
  {
   "cell_type": "markdown",
   "metadata": {},
   "source": [
    "# Question 3: Average Number of Towers for Full Coverage"
   ]
  },
  {
   "cell_type": "markdown",
   "metadata": {},
   "source": [
    "For neatness, I made a helper function below which will continue populating the area until it is fully covered and will then return the number of towers it took to populate it."
   ]
  },
  {
   "cell_type": "code",
   "execution_count": 57,
   "metadata": {
    "collapsed": true
   },
   "outputs": [],
   "source": [
    "def full_coverage(width, height):\n",
    "    trimmed = []\n",
    "    original = []\n",
    "    added_tower = generate_tower(width, height)\n",
    "    original.append(added_tower)\n",
    "    trimmed.append(added_tower)\n",
    "    added_count = 1\n",
    "    while True:\n",
    "        area = 0\n",
    "        for t in trimmed:\n",
    "            if t != None:\n",
    "                area = area + t.width*t.height\n",
    "        if area == height*width:\n",
    "            break\n",
    "        added_tower = generate_tower(width, height)\n",
    "        max_tower = generate_max_tower(added_tower, trimmed)\n",
    "        if max_tower is not None:\n",
    "            original.append(added_tower)\n",
    "            trimmed.append(max_tower)\n",
    "            added_count = added_count + 1\n",
    "    return added_count"
   ]
  },
  {
   "cell_type": "markdown",
   "metadata": {},
   "source": [
    "run_count simply determines how many times we will fully populate. The higher the number, the more accurate our average will be, but the tradeoff is that it will take longer to run."
   ]
  },
  {
   "cell_type": "code",
   "execution_count": 58,
   "metadata": {
    "collapsed": true
   },
   "outputs": [],
   "source": [
    "run_count = 100"
   ]
  },
  {
   "cell_type": "code",
   "execution_count": 59,
   "metadata": {},
   "outputs": [
    {
     "name": "stdout",
     "output_type": "stream",
     "text": [
      "Average number of towers to full coverage is: 24.94\n"
     ]
    }
   ],
   "source": [
    "sum = 0\n",
    "for i in range(0, run_count):\n",
    "    num_towers = full_coverage(width,height)\n",
    "    sum = sum + num_towers\n",
    "print \"Average number of towers to full coverage is: %s\" % (float(sum)/run_count)"
   ]
  },
  {
   "cell_type": "markdown",
   "metadata": {},
   "source": [
    "# Rerun with Many Towers"
   ]
  },
  {
   "cell_type": "markdown",
   "metadata": {},
   "source": [
    "As mentioned previously, running the code with many towers (say, 100) will almost certainly lead to full coverage. This can be seen below."
   ]
  },
  {
   "cell_type": "code",
   "execution_count": 60,
   "metadata": {
    "collapsed": true
   },
   "outputs": [],
   "source": [
    "tower_count = 100\n",
    "original = []\n",
    "trimmed = []\n",
    "new_tower = generate_tower(width, height)\n",
    "original.append(new_tower)\n",
    "trimmed.append(new_tower)\n",
    "\n",
    "added_count = 1\n",
    "while added_count < tower_count:\n",
    "    area = 0\n",
    "    for t in trimmed:\n",
    "        if t != None:\n",
    "            area = area + t.width*t.height\n",
    "    if area == height*width:\n",
    "        break\n",
    "    new_tower = generate_tower(width, height)\n",
    "    trim_tower = generate_max_tower(new_tower, trimmed)\n",
    "    if trim_tower is not None:\n",
    "        original.append(new_tower)\n",
    "        trimmed.append(trim_tower)\n",
    "        added_count = added_count + 1"
   ]
  },
  {
   "cell_type": "code",
   "execution_count": 61,
   "metadata": {},
   "outputs": [
    {
     "data": {
      "image/png": "[encoded data removed]",
      "text/plain": [
       "<matplotlib.figure.Figure at 0xb61f198>"
      ]
     },
     "metadata": {},
     "output_type": "display_data"
    }
   ],
   "source": [
    "fig, ax1 = plt.subplots(1)\n",
    "trimmed_rects = graph_patches(trimmed)\n",
    "original_rects = graph_patches(original)\n",
    "ax1.set_xlim(0, width)\n",
    "ax1.set_ylim(0, height)\n",
    "for i in trimmed_rects:\n",
    "    ax1.add_patch(i)"
   ]
  },
  {
   "cell_type": "code",
   "execution_count": 62,
   "metadata": {},
   "outputs": [
    {
     "name": "stdout",
     "output_type": "stream",
     "text": [
      "400/400 units have coverage\n",
      "No, there are not any gaps in the coverage\n"
     ]
    }
   ],
   "source": [
    "area = 0\n",
    "for t in trimmed:\n",
    "    if t != None:\n",
    "        area = area + t.width*t.height\n",
    "print \"%s/%s units have coverage\" % (area, width*height)\n",
    "if area != width*height:\n",
    "    print \"Yes, there are gaps in the coverage\"\n",
    "else:\n",
    "    print \"No, there are not any gaps in the coverage\""
   ]
  },
  {
   "cell_type": "markdown",
   "metadata": {},
   "source": [
    "# Conclusion"
   ]
  },
  {
   "cell_type": "markdown",
   "metadata": {},
   "source": [
    "Using this program, we can see that there are many different ways to create cell coverage for an area. I chose to use a greedy algorithm because it is intuitive and maximizes the area. Adding more towers makes it more likely that the area will be fully covered.\n",
    "\n",
    "An issue with this system's design though is that the towers are uniformly distributed, so we cannot always create an optimal setup for coverage. If we were able to choose the size of the tower as well as where it is placed, it would be much easier to create the coverage we want. \n",
    "\n",
    "This project illustrates how it is possible to solve a problem using not only algorithm and system design, but also visualizations that help us understand exactly how the system works and progresses over time."
   ]
  }
 ],
 "metadata": {
  "kernelspec": {
   "display_name": "Python 2",
   "language": "python",
   "name": "python2"
  },
  "language_info": {
   "codemirror_mode": {
    "name": "ipython",
    "version": 2
   },
   "file_extension": ".py",
   "mimetype": "text/x-python",
   "name": "python",
   "nbconvert_exporter": "python",
   "pygments_lexer": "ipython2",
   "version": "2.7.14"
  }
 },
 "nbformat": 4,
 "nbformat_minor": 2
}
